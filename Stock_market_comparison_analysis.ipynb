{
  "cells": [
    {
      "cell_type": "code",
      "execution_count": 1,
      "metadata": {
        "id": "WLNyMj3zvVd2"
      },
      "outputs": [],
      "source": [
        "import yfinance as yf\n",
        "import pandas as pd\n",
        "import plotly.io as pio\n",
        "import plotly.graph_objects as go\n",
        "pio.templates.default=\"plotly_white\""
      ]
    },
    {
      "cell_type": "code",
      "execution_count": null,
      "metadata": {
        "colab": {
          "base_uri": "https://localhost:8080/"
        },
        "id": "Ng0ZGlfRyhGN",
        "outputId": "3048359e-cf7e-44ac-91b7-8555035a4538"
      },
      "outputs": [
        {
          "ename": "",
          "evalue": "",
          "output_type": "error",
          "traceback": [
            "\u001b[1;31mRunning cells with 'Python 3.10.11' requires the ipykernel package.\n",
            "\u001b[1;31mRun the following command to install 'ipykernel' into the Python environment. \n",
            "\u001b[1;31mCommand: 'c:/msys64/ucrt64/bin/python.exe -m pip install ipykernel -U --user --force-reinstall'"
          ]
        }
      ],
      "source": [
        "#collecting stock price data\n",
        "#define the tickers for amazon and google\n",
        "amazon_ticker='AMZN'\n",
        "google_ticker='GOOGL'\n",
        "#Define the date range for the last quarter\n",
        "start_date='2023-07-01'\n",
        "end_date='2023-09-30'\n",
        "#Fetch historical stock price data using yfinance\n",
        "amazon_data = yf.download(amazon_ticker, start=start_date, end=end_date)\n",
        "google_data = yf.download(google_ticker, start=start_date, end=end_date)"
      ]
    },
    {
      "cell_type": "code",
      "execution_count": 18,
      "metadata": {
        "id": "B04u7w2SzjcI"
      },
      "outputs": [],
      "source": [
        "#Calculate the daily returns of apple and google in the stock market\n",
        "amazon_data['Daily_Return'] = amazon_data['Adj Close'].pct_change()\n",
        "google_data['Daily_Return'] = google_data['Adj Close'].pct_change()"
      ]
    },
    {
      "cell_type": "code",
      "execution_count": null,
      "metadata": {
        "colab": {
          "base_uri": "https://localhost:8080/",
          "height": 542
        },
        "id": "8gSyk7SQzzXv",
        "outputId": "3d70cd04-4340-4ca1-d7b8-2564b610024a"
      },
      "outputs": [],
      "source": [
        "# Create a figure to visualize the daily returns\n",
        "fig = go.Figure()\n",
        "\n",
        "fig.add_trace(go.Scatter(x=amazon_data.index, y=amazon_data['Daily_Return'],\n",
        "                         mode='lines', name='Amazon', line=dict(color='blue')))\n",
        "fig.add_trace(go.Scatter(x=google_data.index, y=google_data['Daily_Return'],\n",
        "                         mode='lines', name='Google', line=dict(color='green')))\n",
        "\n",
        "fig.update_layout(title='Daily Returns for Amazon and Google (Last Quarter)',\n",
        "                  xaxis_title='Date', yaxis_title='Daily Return',\n",
        "                  legend=dict(x=0.02, y=0.95))\n",
        "fig.show()"
      ]
    },
    {
      "cell_type": "code",
      "execution_count": null,
      "metadata": {
        "colab": {
          "base_uri": "https://localhost:8080/",
          "height": 542
        },
        "id": "VZ-E2nx60GMy",
        "outputId": "048c417f-18b6-4d20-8562-a8cc521af679"
      },
      "outputs": [],
      "source": [
        "# Calculate cumulative returns for the last quarter\n",
        "amazon_cumulative_return = (1 + amazon_data['Daily_Return']).cumprod() - 1\n",
        "google_cumulative_return = (1 + google_data['Daily_Return']).cumprod() - 1\n",
        "\n",
        "# Create a figure to visualize the cumulative returns\n",
        "fig = go.Figure()\n",
        "\n",
        "fig.add_trace(go.Scatter(x=amazon_cumulative_return.index, y=amazon_cumulative_return,\n",
        "                         mode='lines', name='Amazon', line=dict(color='blue')))\n",
        "fig.add_trace(go.Scatter(x=google_cumulative_return.index, y=google_cumulative_return,\n",
        "                         mode='lines', name='Google', line=dict(color='green')))\n",
        "\n",
        "fig.update_layout(title='Cumulative Returns for Amazon and Google (Last Quarter)',\n",
        "                  xaxis_title='Date', yaxis_title='Cumulative Return',\n",
        "                  legend=dict(x=0.02, y=0.95))\n",
        "\n",
        "fig.show()"
      ]
    },
    {
      "cell_type": "code",
      "execution_count": null,
      "metadata": {
        "colab": {
          "base_uri": "https://localhost:8080/",
          "height": 542
        },
        "id": "VD8oQVaW03lM",
        "outputId": "18cc9d90-1a7a-4e7e-a7b9-b1fee8e746a5"
      },
      "outputs": [],
      "source": [
        "# Calculate historical volatility (standard deviation of daily returns)\n",
        "amazon_volatility = amazon_data['Daily_Return'].std()\n",
        "google_volatility = google_data['Daily_Return'].std()\n",
        "\n",
        "# Create a figure to compare volatility\n",
        "fig1 = go.Figure()\n",
        "fig1.add_bar(x=['Amazon', 'Google'], y=[amazon_volatility, google_volatility],\n",
        "             text=[f'{amazon_volatility:.4f}', f'{google_volatility:.4f}'],\n",
        "             textposition='auto', marker=dict(color=['blue', 'green']))\n",
        "\n",
        "fig1.update_layout(title='Volatility Comparison (Last Quarter)',\n",
        "                   xaxis_title='Stock', yaxis_title='Volatility (Standard Deviation)',\n",
        "                   bargap=0.5)\n",
        "fig1.show()"
      ]
    },
    {
      "cell_type": "code",
      "execution_count": null,
      "metadata": {
        "colab": {
          "base_uri": "https://localhost:8080/"
        },
        "id": "d-ykWN771fpV",
        "outputId": "b4f56eaf-e182-43ff-8ebd-0d35faa84d55"
      },
      "outputs": [],
      "source": [
        "market_data = yf.download('^GSPC', start=start_date, end=end_date)  # S&P 500 index as the market benchmark\n",
        "\n",
        "# Calculate daily returns for both stocks and the market\n",
        "amazon_data['Daily_Return'] = amazon_data['Adj Close'].pct_change()\n",
        "google_data['Daily_Return'] = google_data['Adj Close'].pct_change()\n",
        "market_data['Daily_Return'] = market_data['Adj Close'].pct_change()\n",
        "\n",
        "# Calculate Beta for Apple and Google\n",
        "cov_amazon = amazon_data['Daily_Return'].cov(market_data['Daily_Return'])\n",
        "var_market = market_data['Daily_Return'].var()\n",
        "\n",
        "beta_amazon = cov_amazon / var_market\n",
        "\n",
        "cov_google = google_data['Daily_Return'].cov(market_data['Daily_Return'])\n",
        "beta_google = cov_google / var_market\n",
        "\n",
        "# Compare Beta values\n",
        "if beta_amazon > beta_google:\n",
        "    conclusion = \"Amazon is more volatile (higher Beta) compared to Google.\"\n",
        "else:\n",
        "    conclusion = \"Google is more volatile (higher Beta) compared to Amazon.\"\n",
        "\n",
        "# Print the conclusion\n",
        "print(conclusion)"
      ]
    }
  ],
  "metadata": {
    "colab": {
      "provenance": []
    },
    "kernelspec": {
      "display_name": "Python 3",
      "name": "python3"
    },
    "language_info": {
      "name": "python",
      "version": "3.10.11"
    }
  },
  "nbformat": 4,
  "nbformat_minor": 0
}
